{
  "nbformat": 4,
  "nbformat_minor": 0,
  "metadata": {
    "colab": {
      "provenance": []
    },
    "kernelspec": {
      "name": "python3",
      "display_name": "Python 3"
    },
    "language_info": {
      "name": "python"
    }
  },
  "cells": [
    {
      "cell_type": "markdown",
      "source": [
        "# **1. Import Library**"
      ],
      "metadata": {
        "id": "fKADPWcFKlj3"
      }
    },
    {
      "cell_type": "markdown",
      "source": [
        "Pada tahap ini, Anda perlu mengimpor beberapa pustaka (library) Python yang dibutuhkan untuk analisis data dan pembangunan model machine learning."
      ],
      "metadata": {
        "id": "LgA3ERnVn84N"
      }
    },
    {
      "cell_type": "code",
      "source": [
        "import numpy as np\n",
        "import pandas as pd\n",
        "import matplotlib.pyplot as plt\n",
        "import seaborn as sns\n",
        "%matplotlib inline\n",
        "\n",
        "from google.colab import drive\n",
        "drive.mount('/content/drive')\n",
        "\n",
        "import warnings\n",
        "warnings.filterwarnings('ignore')"
      ],
      "metadata": {
        "id": "BlmvjLY9M4Yj",
        "colab": {
          "base_uri": "https://localhost:8080/"
        },
        "outputId": "c39f5703-7e8d-4799-ad13-3526a88765b0"
      },
      "execution_count": 1,
      "outputs": [
        {
          "output_type": "stream",
          "name": "stdout",
          "text": [
            "Drive already mounted at /content/drive; to attempt to forcibly remount, call drive.mount(\"/content/drive\", force_remount=True).\n"
          ]
        }
      ]
    },
    {
      "cell_type": "markdown",
      "source": [
        "# **2. Memuat Dataset dari Hasil Clustering**"
      ],
      "metadata": {
        "id": "f3YIEnAFKrKL"
      }
    },
    {
      "cell_type": "markdown",
      "source": [
        "Memuat dataset hasil clustering dari file CSV ke dalam variabel DataFrame."
      ],
      "metadata": {
        "id": "Ey3ItwTen_7E"
      }
    },
    {
      "cell_type": "code",
      "source": [
        "data = '/content/drive/MyDrive/BMLP/clustered_data1.csv'\n",
        "df = pd.read_csv(data)"
      ],
      "metadata": {
        "id": "GHCGNTyrM5fS"
      },
      "execution_count": 2,
      "outputs": []
    },
    {
      "cell_type": "markdown",
      "source": [
        "# **3. Data Splitting**"
      ],
      "metadata": {
        "id": "KkPem5eWL2UP"
      }
    },
    {
      "cell_type": "markdown",
      "source": [
        "Tahap Data Splitting bertujuan untuk memisahkan dataset menjadi dua bagian: data latih (training set) dan data uji (test set)."
      ],
      "metadata": {
        "id": "YYj1rl_JNI9Y"
      }
    },
    {
      "cell_type": "code",
      "source": [
        "from sklearn.model_selection import train_test_split\n",
        "\n",
        "X = df\n",
        "\n",
        "y = df['Cluster']\n",
        "\n",
        "X_train, X_test, y_train, y_test = train_test_split(X, y, test_size=0.4, random_state=42, stratify=y)"
      ],
      "metadata": {
        "id": "OubAW-7ONKVj"
      },
      "execution_count": 3,
      "outputs": []
    },
    {
      "cell_type": "markdown",
      "source": [
        "# **4. Membangun Model Klasifikasi**\n"
      ],
      "metadata": {
        "id": "IVPbB03CMhTT"
      }
    },
    {
      "cell_type": "markdown",
      "source": [
        "## **a. Membangun Model Klasifikasi**"
      ],
      "metadata": {
        "id": "Ned1pL9zMmBK"
      }
    },
    {
      "cell_type": "markdown",
      "source": [
        "Setelah memilih algoritma klasifikasi yang sesuai, langkah selanjutnya adalah melatih model menggunakan data latih.\n",
        "\n",
        "Berikut adalah rekomendasi tahapannya.\n",
        "1. Pilih algoritma klasifikasi yang sesuai, seperti Logistic Regression, Decision Tree, Random Forest, atau K-Nearest Neighbors (KNN).\n",
        "2. Latih model menggunakan data latih."
      ],
      "metadata": {
        "id": "WAWzPOE4Nkti"
      }
    },
    {
      "cell_type": "markdown",
      "source": [
        "**Neural Network (MLPClassifier)**\n",
        "\n",
        "Algoritma Neural Network yang digunakan dalam kode di atas adalah Multilayer Perceptron (MLP). MLP adalah salah satu tipe dari jaringan saraf buatan yang digunakan untuk klasifikasi, regresi, dan banyak aplikasi pembelajaran mesin lainnya. Model MLPClassifier diimplementasikan melalui kelas MLPClassifier yang tersedia dalam pustaka sklearn.neural_network.\n",
        "\n",
        "Struktur Model:\n",
        "\n",
        "\n",
        "*   Lapisan Input: Lapisan pertama adalah lapisan input yang menerima data fitur\n",
        "dari dataset. Setiap fitur dalam dataset menjadi neuron di lapisan ini. MLPClassifier bekerja dengan menganggap fitur-fitur ini sebagai vektor input untuk jaringan saraf.\n",
        "*   Lapisan Tersembunyi: MLP memiliki satu atau lebih lapisan tersembunyi yang ada di antara lapisan input dan lapisan output. Setiap neuron di lapisan tersembunyi menerima bobot (weight) dari neuron di lapisan sebelumnya. Dalam kode ini, model menggunakan satu lapisan tersembunyi dengan 100 neuron (ditentukan oleh parameter hidden_layer_sizes=(100,)). Jumlah neuron dalam lapisan tersembunyi dapat diubah tergantung pada kompleksitas masalah. Setiap neuron pada lapisan tersembunyi menghitung sebuah fungsi aktivasi, yang kemudian diteruskan ke lapisan berikutnya. Fungsi aktivasi yang digunakan di sini adalah ReLU (Rectified Linear Unit) secara default, yang membantu jaringan belajar dari data dengan menangani masalah vanishing gradient lebih baik dibandingkan dengan fungsi aktivasi lainnya.\n",
        "*   Lapisan Output: Lapisan terakhir adalah lapisan output yang menghasilkan hasil prediksi. Setiap neuron di lapisan output mewakili sebuah kelas dalam masalah klasifikasi. Dalam hal ini, MLPClassifier secara otomatis menangani jumlah kelas sesuai dengan label target y yang ada dalam dataset.\n",
        "\n",
        "Proses Pembelajaran (Training):\n",
        "*   Proses Pelatihan (Training) dimulai dengan inisialisasi bobot (weights) secara acak.\n",
        "*   Model akan memperbarui bobot-bobot tersebut selama iterasi untuk meminimalkan kesalahan atau loss. Dalam hal ini, loss function yang digunakan adalah log-loss atau cross-entropy loss, yang mengukur perbedaan antara prediksi model dan label sebenarnya.\n",
        "*   Proses pembaruan bobot dilakukan menggunakan algoritma backpropagation bersama dengan teknik optimisasi seperti Stochastic Gradient Descent (SGD) atau Adam (tergantung implementasi).\n",
        "*   Dalam kode ini, max_iter=1000 mengatur batas jumlah iterasi pembelajaran, yang menunjukkan berapa banyak kali algoritma akan memperbarui bobot selama proses pelatihan. Jika model belum konvergen setelah 1000 iterasi, maka pelatihan akan berhenti.\n",
        "\n",
        "Proses Pengujian (Testing):\n",
        "Setelah model dilatih dengan data pelatihan, model diuji dengan data uji (test data) menggunakan metode predict(). Model menghasilkan prediksi kelas untuk setiap sampel pada data uji, yang kemudian dibandingkan dengan nilai aktualnya (y_test)."
      ],
      "metadata": {
        "id": "NiyiCs_X8w5F"
      }
    },
    {
      "cell_type": "code",
      "source": [
        "from sklearn.neural_network import MLPClassifier\n",
        "from sklearn.metrics import accuracy_score, log_loss\n",
        "\n",
        "nn_model = MLPClassifier(hidden_layer_sizes=(100,), random_state=42, max_iter=1, warm_start=True)\n",
        "\n",
        "nn_train_loss, nn_val_loss = [], []\n",
        "nn_train_acc, nn_val_acc = [], []\n",
        "\n",
        "# Training loop\n",
        "for epoch in range(1, 101):  # Train for 100 iterations\n",
        "    nn_model.partial_fit(X_train, y_train, classes=np.unique(y_train))\n",
        "\n",
        "    # Training metrics\n",
        "    y_train_pred_nn = nn_model.predict(X_train)\n",
        "    train_acc_nn = accuracy_score(y_train, y_train_pred_nn)\n",
        "    train_loss_nn = log_loss(y_train, nn_model.predict_proba(X_train))\n",
        "\n",
        "    # Validation metrics\n",
        "    y_val_pred_nn = nn_model.predict(X_test)\n",
        "    val_acc_nn = accuracy_score(y_test, y_val_pred_nn)\n",
        "    val_loss_nn = log_loss(y_test, nn_model.predict_proba(X_test))\n",
        "\n",
        "    # Append metrics to list\n",
        "    nn_train_loss.append(train_loss_nn)\n",
        "    nn_val_loss.append(val_loss_nn)\n",
        "    nn_train_acc.append(train_acc_nn)\n",
        "    nn_val_acc.append(val_acc_nn)\n",
        "\n",
        "    # Print metrics for the current iteration\n",
        "    print(f\"Iteration {epoch:03d} -> Train Loss: {train_loss_nn:.4f}, Train Accuracy: {train_acc_nn:.4f}, Val Loss: {val_loss_nn:.4f}, Val Accuracy: {val_acc_nn:.4f}\")"
      ],
      "metadata": {
        "id": "4JYxBe87NLDk",
        "colab": {
          "base_uri": "https://localhost:8080/"
        },
        "outputId": "b1176587-f2a5-45d4-9cf1-955dd7b0a128"
      },
      "execution_count": 4,
      "outputs": [
        {
          "output_type": "stream",
          "name": "stdout",
          "text": [
            "Iteration 001 -> Train Loss: 2.5603, Train Accuracy: 0.7648, Val Loss: 2.6095, Val Accuracy: 0.7709\n",
            "Iteration 002 -> Train Loss: 1.3407, Train Accuracy: 0.7400, Val Loss: 1.2866, Val Accuracy: 0.7500\n",
            "Iteration 003 -> Train Loss: 0.9300, Train Accuracy: 0.7894, Val Loss: 0.8969, Val Accuracy: 0.8004\n",
            "Iteration 004 -> Train Loss: 0.7647, Train Accuracy: 0.8317, Val Loss: 0.7296, Val Accuracy: 0.8411\n",
            "Iteration 005 -> Train Loss: 0.6460, Train Accuracy: 0.8506, Val Loss: 0.6162, Val Accuracy: 0.8589\n",
            "Iteration 006 -> Train Loss: 0.5944, Train Accuracy: 0.8560, Val Loss: 0.5576, Val Accuracy: 0.8617\n",
            "Iteration 007 -> Train Loss: 0.5580, Train Accuracy: 0.8437, Val Loss: 0.5291, Val Accuracy: 0.8557\n",
            "Iteration 008 -> Train Loss: 0.4910, Train Accuracy: 0.9189, Val Loss: 0.4771, Val Accuracy: 0.9206\n",
            "Iteration 009 -> Train Loss: 0.5067, Train Accuracy: 0.9196, Val Loss: 0.4963, Val Accuracy: 0.9195\n",
            "Iteration 010 -> Train Loss: 0.4105, Train Accuracy: 0.9239, Val Loss: 0.4079, Val Accuracy: 0.9241\n",
            "Iteration 011 -> Train Loss: 0.3756, Train Accuracy: 0.9392, Val Loss: 0.3785, Val Accuracy: 0.9404\n",
            "Iteration 012 -> Train Loss: 0.3485, Train Accuracy: 0.9355, Val Loss: 0.3447, Val Accuracy: 0.9344\n",
            "Iteration 013 -> Train Loss: 0.3183, Train Accuracy: 0.9364, Val Loss: 0.3181, Val Accuracy: 0.9333\n",
            "Iteration 014 -> Train Loss: 0.3121, Train Accuracy: 0.9362, Val Loss: 0.3075, Val Accuracy: 0.9394\n",
            "Iteration 015 -> Train Loss: 0.3081, Train Accuracy: 0.9374, Val Loss: 0.3240, Val Accuracy: 0.9330\n",
            "Iteration 016 -> Train Loss: 0.2837, Train Accuracy: 0.9395, Val Loss: 0.3096, Val Accuracy: 0.9337\n",
            "Iteration 017 -> Train Loss: 0.2717, Train Accuracy: 0.9416, Val Loss: 0.2755, Val Accuracy: 0.9376\n",
            "Iteration 018 -> Train Loss: 0.3887, Train Accuracy: 0.8939, Val Loss: 0.3472, Val Accuracy: 0.9021\n",
            "Iteration 019 -> Train Loss: 0.2892, Train Accuracy: 0.9232, Val Loss: 0.2637, Val Accuracy: 0.9255\n",
            "Iteration 020 -> Train Loss: 0.2285, Train Accuracy: 0.9388, Val Loss: 0.2431, Val Accuracy: 0.9415\n",
            "Iteration 021 -> Train Loss: 0.2329, Train Accuracy: 0.9501, Val Loss: 0.2278, Val Accuracy: 0.9496\n",
            "Iteration 022 -> Train Loss: 0.1874, Train Accuracy: 0.9515, Val Loss: 0.2164, Val Accuracy: 0.9507\n",
            "Iteration 023 -> Train Loss: 0.1794, Train Accuracy: 0.9579, Val Loss: 0.2025, Val Accuracy: 0.9550\n",
            "Iteration 024 -> Train Loss: 0.1482, Train Accuracy: 0.9686, Val Loss: 0.1789, Val Accuracy: 0.9638\n",
            "Iteration 025 -> Train Loss: 0.1665, Train Accuracy: 0.9657, Val Loss: 0.1684, Val Accuracy: 0.9638\n",
            "Iteration 026 -> Train Loss: 0.2128, Train Accuracy: 0.9378, Val Loss: 0.2228, Val Accuracy: 0.9426\n",
            "Iteration 027 -> Train Loss: 0.1148, Train Accuracy: 0.9742, Val Loss: 0.1185, Val Accuracy: 0.9691\n",
            "Iteration 028 -> Train Loss: 0.1503, Train Accuracy: 0.9709, Val Loss: 0.1368, Val Accuracy: 0.9695\n",
            "Iteration 029 -> Train Loss: 0.2637, Train Accuracy: 0.9206, Val Loss: 0.2823, Val Accuracy: 0.9170\n",
            "Iteration 030 -> Train Loss: 0.3555, Train Accuracy: 0.9376, Val Loss: 0.2897, Val Accuracy: 0.9450\n",
            "Iteration 031 -> Train Loss: 0.2078, Train Accuracy: 0.9442, Val Loss: 0.2241, Val Accuracy: 0.9447\n",
            "Iteration 032 -> Train Loss: 0.1078, Train Accuracy: 0.9809, Val Loss: 0.1287, Val Accuracy: 0.9819\n",
            "Iteration 033 -> Train Loss: 0.0905, Train Accuracy: 0.9865, Val Loss: 0.1232, Val Accuracy: 0.9844\n",
            "Iteration 034 -> Train Loss: 0.0738, Train Accuracy: 0.9939, Val Loss: 0.1078, Val Accuracy: 0.9897\n",
            "Iteration 035 -> Train Loss: 0.0687, Train Accuracy: 0.9943, Val Loss: 0.1038, Val Accuracy: 0.9922\n",
            "Iteration 036 -> Train Loss: 0.0656, Train Accuracy: 0.9962, Val Loss: 0.0812, Val Accuracy: 0.9922\n",
            "Iteration 037 -> Train Loss: 0.0603, Train Accuracy: 0.9979, Val Loss: 0.0756, Val Accuracy: 0.9936\n",
            "Iteration 038 -> Train Loss: 0.0582, Train Accuracy: 0.9974, Val Loss: 0.0986, Val Accuracy: 0.9940\n",
            "Iteration 039 -> Train Loss: 0.0545, Train Accuracy: 0.9979, Val Loss: 0.0939, Val Accuracy: 0.9943\n",
            "Iteration 040 -> Train Loss: 0.0519, Train Accuracy: 0.9981, Val Loss: 0.0896, Val Accuracy: 0.9943\n",
            "Iteration 041 -> Train Loss: 0.0513, Train Accuracy: 0.9991, Val Loss: 0.0907, Val Accuracy: 0.9947\n",
            "Iteration 042 -> Train Loss: 0.0472, Train Accuracy: 0.9983, Val Loss: 0.0858, Val Accuracy: 0.9947\n",
            "Iteration 043 -> Train Loss: 0.0448, Train Accuracy: 0.9988, Val Loss: 0.0813, Val Accuracy: 0.9954\n",
            "Iteration 044 -> Train Loss: 0.0436, Train Accuracy: 0.9993, Val Loss: 0.0799, Val Accuracy: 0.9957\n",
            "Iteration 045 -> Train Loss: 0.0419, Train Accuracy: 0.9991, Val Loss: 0.0790, Val Accuracy: 0.9957\n",
            "Iteration 046 -> Train Loss: 0.0404, Train Accuracy: 0.9991, Val Loss: 0.0785, Val Accuracy: 0.9957\n",
            "Iteration 047 -> Train Loss: 0.0387, Train Accuracy: 0.9993, Val Loss: 0.0736, Val Accuracy: 0.9965\n",
            "Iteration 048 -> Train Loss: 0.0378, Train Accuracy: 0.9998, Val Loss: 0.0739, Val Accuracy: 0.9965\n",
            "Iteration 049 -> Train Loss: 0.0356, Train Accuracy: 0.9993, Val Loss: 0.0707, Val Accuracy: 0.9965\n",
            "Iteration 050 -> Train Loss: 0.0342, Train Accuracy: 0.9988, Val Loss: 0.0700, Val Accuracy: 0.9957\n",
            "Iteration 051 -> Train Loss: 0.0328, Train Accuracy: 0.9998, Val Loss: 0.0666, Val Accuracy: 0.9972\n",
            "Iteration 052 -> Train Loss: 0.0324, Train Accuracy: 0.9998, Val Loss: 0.0667, Val Accuracy: 0.9968\n",
            "Iteration 053 -> Train Loss: 0.0313, Train Accuracy: 1.0000, Val Loss: 0.0653, Val Accuracy: 0.9968\n",
            "Iteration 054 -> Train Loss: 0.0291, Train Accuracy: 0.9993, Val Loss: 0.0629, Val Accuracy: 0.9979\n",
            "Iteration 055 -> Train Loss: 0.0279, Train Accuracy: 0.9998, Val Loss: 0.0615, Val Accuracy: 0.9972\n",
            "Iteration 056 -> Train Loss: 0.0268, Train Accuracy: 0.9998, Val Loss: 0.0602, Val Accuracy: 0.9972\n",
            "Iteration 057 -> Train Loss: 0.0260, Train Accuracy: 1.0000, Val Loss: 0.0592, Val Accuracy: 0.9975\n",
            "Iteration 058 -> Train Loss: 0.0250, Train Accuracy: 1.0000, Val Loss: 0.0582, Val Accuracy: 0.9979\n",
            "Iteration 059 -> Train Loss: 0.0243, Train Accuracy: 1.0000, Val Loss: 0.0574, Val Accuracy: 0.9975\n",
            "Iteration 060 -> Train Loss: 0.0242, Train Accuracy: 1.0000, Val Loss: 0.0576, Val Accuracy: 0.9972\n",
            "Iteration 061 -> Train Loss: 0.0231, Train Accuracy: 1.0000, Val Loss: 0.0573, Val Accuracy: 0.9965\n",
            "Iteration 062 -> Train Loss: 0.0220, Train Accuracy: 1.0000, Val Loss: 0.0548, Val Accuracy: 0.9979\n",
            "Iteration 063 -> Train Loss: 0.0214, Train Accuracy: 1.0000, Val Loss: 0.0540, Val Accuracy: 0.9979\n",
            "Iteration 064 -> Train Loss: 0.0205, Train Accuracy: 1.0000, Val Loss: 0.0532, Val Accuracy: 0.9979\n",
            "Iteration 065 -> Train Loss: 0.0199, Train Accuracy: 1.0000, Val Loss: 0.0525, Val Accuracy: 0.9979\n",
            "Iteration 066 -> Train Loss: 0.0192, Train Accuracy: 1.0000, Val Loss: 0.0518, Val Accuracy: 0.9979\n",
            "Iteration 067 -> Train Loss: 0.0187, Train Accuracy: 1.0000, Val Loss: 0.0511, Val Accuracy: 0.9975\n",
            "Iteration 068 -> Train Loss: 0.0181, Train Accuracy: 1.0000, Val Loss: 0.0505, Val Accuracy: 0.9975\n",
            "Iteration 069 -> Train Loss: 0.0175, Train Accuracy: 1.0000, Val Loss: 0.0499, Val Accuracy: 0.9975\n",
            "Iteration 070 -> Train Loss: 0.0170, Train Accuracy: 1.0000, Val Loss: 0.0493, Val Accuracy: 0.9979\n",
            "Iteration 071 -> Train Loss: 0.0165, Train Accuracy: 1.0000, Val Loss: 0.0487, Val Accuracy: 0.9979\n",
            "Iteration 072 -> Train Loss: 0.0160, Train Accuracy: 1.0000, Val Loss: 0.0481, Val Accuracy: 0.9982\n",
            "Iteration 073 -> Train Loss: 0.0156, Train Accuracy: 1.0000, Val Loss: 0.0476, Val Accuracy: 0.9982\n",
            "Iteration 074 -> Train Loss: 0.0151, Train Accuracy: 1.0000, Val Loss: 0.0471, Val Accuracy: 0.9982\n",
            "Iteration 075 -> Train Loss: 0.0147, Train Accuracy: 1.0000, Val Loss: 0.0466, Val Accuracy: 0.9982\n",
            "Iteration 076 -> Train Loss: 0.0143, Train Accuracy: 1.0000, Val Loss: 0.0461, Val Accuracy: 0.9982\n",
            "Iteration 077 -> Train Loss: 0.0139, Train Accuracy: 1.0000, Val Loss: 0.0456, Val Accuracy: 0.9982\n",
            "Iteration 078 -> Train Loss: 0.0135, Train Accuracy: 1.0000, Val Loss: 0.0452, Val Accuracy: 0.9982\n",
            "Iteration 079 -> Train Loss: 0.0132, Train Accuracy: 1.0000, Val Loss: 0.0448, Val Accuracy: 0.9982\n",
            "Iteration 080 -> Train Loss: 0.0128, Train Accuracy: 1.0000, Val Loss: 0.0443, Val Accuracy: 0.9982\n",
            "Iteration 081 -> Train Loss: 0.0125, Train Accuracy: 1.0000, Val Loss: 0.0439, Val Accuracy: 0.9982\n",
            "Iteration 082 -> Train Loss: 0.0121, Train Accuracy: 1.0000, Val Loss: 0.0435, Val Accuracy: 0.9982\n",
            "Iteration 083 -> Train Loss: 0.0118, Train Accuracy: 1.0000, Val Loss: 0.0431, Val Accuracy: 0.9982\n",
            "Iteration 084 -> Train Loss: 0.0115, Train Accuracy: 1.0000, Val Loss: 0.0428, Val Accuracy: 0.9982\n",
            "Iteration 085 -> Train Loss: 0.0112, Train Accuracy: 1.0000, Val Loss: 0.0425, Val Accuracy: 0.9982\n",
            "Iteration 086 -> Train Loss: 0.0110, Train Accuracy: 1.0000, Val Loss: 0.0421, Val Accuracy: 0.9982\n",
            "Iteration 087 -> Train Loss: 0.0107, Train Accuracy: 1.0000, Val Loss: 0.0418, Val Accuracy: 0.9982\n",
            "Iteration 088 -> Train Loss: 0.0104, Train Accuracy: 1.0000, Val Loss: 0.0415, Val Accuracy: 0.9982\n",
            "Iteration 089 -> Train Loss: 0.0102, Train Accuracy: 1.0000, Val Loss: 0.0411, Val Accuracy: 0.9982\n",
            "Iteration 090 -> Train Loss: 0.0099, Train Accuracy: 1.0000, Val Loss: 0.0408, Val Accuracy: 0.9982\n",
            "Iteration 091 -> Train Loss: 0.0097, Train Accuracy: 1.0000, Val Loss: 0.0406, Val Accuracy: 0.9982\n",
            "Iteration 092 -> Train Loss: 0.0094, Train Accuracy: 1.0000, Val Loss: 0.0403, Val Accuracy: 0.9982\n",
            "Iteration 093 -> Train Loss: 0.0092, Train Accuracy: 1.0000, Val Loss: 0.0400, Val Accuracy: 0.9982\n",
            "Iteration 094 -> Train Loss: 0.0090, Train Accuracy: 1.0000, Val Loss: 0.0397, Val Accuracy: 0.9982\n",
            "Iteration 095 -> Train Loss: 0.0088, Train Accuracy: 1.0000, Val Loss: 0.0395, Val Accuracy: 0.9982\n",
            "Iteration 096 -> Train Loss: 0.0086, Train Accuracy: 1.0000, Val Loss: 0.0392, Val Accuracy: 0.9982\n",
            "Iteration 097 -> Train Loss: 0.0084, Train Accuracy: 1.0000, Val Loss: 0.0390, Val Accuracy: 0.9986\n",
            "Iteration 098 -> Train Loss: 0.0082, Train Accuracy: 1.0000, Val Loss: 0.0387, Val Accuracy: 0.9986\n",
            "Iteration 099 -> Train Loss: 0.0080, Train Accuracy: 1.0000, Val Loss: 0.0385, Val Accuracy: 0.9986\n",
            "Iteration 100 -> Train Loss: 0.0078, Train Accuracy: 1.0000, Val Loss: 0.0383, Val Accuracy: 0.9986\n"
          ]
        }
      ]
    },
    {
      "cell_type": "code",
      "source": [
        "plt.figure(figsize=(10, 5))\n",
        "plt.plot(range(1, len(nn_train_loss) + 1), nn_train_loss, label='Train Loss')\n",
        "plt.plot(range(1, len(nn_val_loss) + 1), nn_val_loss, label='Validation Loss')\n",
        "plt.title('Loss Neural Network')\n",
        "plt.xlabel('Iteration')\n",
        "plt.ylabel('Loss')\n",
        "plt.legend()\n",
        "plt.show()"
      ],
      "metadata": {
        "colab": {
          "base_uri": "https://localhost:8080/",
          "height": 487
        },
        "id": "dUO-qt7o72f_",
        "outputId": "ce054d73-a4b0-4d88-98e4-4de2ed475453"
      },
      "execution_count": 5,
      "outputs": [
        {
          "output_type": "display_data",
          "data": {
            "text/plain": [
              "<Figure size 1000x500 with 1 Axes>"
            ],
            "image/png": "[encoded data removed]"
          },
          "metadata": {}
        }
      ]
    },
    {
      "cell_type": "markdown",
      "source": [
        "**Random Forest**\n",
        "\n",
        "adalah algoritma pembelajaran mesin berbasis ensambel yang digunakan untuk klasifikasi dan regresi. Algoritma ini menggabungkan banyak pohon keputusan (decision trees) untuk meningkatkan akurasi dan mengurangi overfitting dibandingkan dengan menggunakan satu pohon keputusan tunggal. Random Forest bekerja dengan prinsip bagging (Bootstrap Aggregating), yang menciptakan beberapa model pembelajaran dan menggabungkan hasil prediksi dari masing-masing model untuk mendapatkan hasil akhir.\n",
        "\n",
        "Proses Pelatihan:\n",
        "\n",
        "*   Bootstrap Sampling: Membuat beberapa sampel acak dari dataset asli dengan pengembalian untuk setiap pohon keputusan.\n",
        "*   Pemilihan Fitur Acak: Pada setiap simpul pohon, memilih subset acak dari fitur untuk menentukan pembagian terbaik.\n",
        "*   Penentuan Label Kelas atau Nilai: Di daun pohon, model menghasilkan keputusan atau nilai berdasarkan mayoritas kelas (klasifikasi) atau rata-rata nilai (regresi) dari data yang ada di dalamnya.\n",
        "*   Pembelajaran Pohon Keputusan: Melatih setiap pohon menggunakan subset data yang berbeda, hingga mencapai kedalaman tertentu atau tidak ada pemisahan lebih lanjut.\n",
        "*   Prediksi: Untuk klasifikasi, hasilnya adalah mayoritas suara dari semua pohon. Untuk regresi, hasilnya adalah rata-rata prediksi semua pohon.\n",
        "\n",
        "Proses Pengujian (Testing): Setelah model dilatih dengan data pelatihan, model diuji dengan data uji (test data) menggunakan metode predict(). Model menghasilkan prediksi kelas untuk setiap sampel pada data uji, yang kemudian dibandingkan dengan nilai aktualnya (y_test)."
      ],
      "metadata": {
        "id": "seYoHNY3XU1y"
      }
    },
    {
      "cell_type": "code",
      "source": [
        "from sklearn.ensemble import RandomForestClassifier\n",
        "from sklearn.metrics import accuracy_score, log_loss\n",
        "\n",
        "# Initialize the Random Forest model with warm_start\n",
        "rf_model = RandomForestClassifier(n_estimators=1, random_state=42, warm_start=True)\n",
        "\n",
        "rf_train_loss, rf_val_loss = [], []\n",
        "rf_train_acc, rf_val_acc = [], []\n",
        "\n",
        "for epoch in range(1, 101):  # Train for 100 iterations\n",
        "    rf_model.n_estimators = epoch  # Add 1 tree in each iteration\n",
        "    rf_model.fit(X_train, y_train)\n",
        "\n",
        "    # Training metrics\n",
        "    y_train_pred_rf = rf_model.predict(X_train)\n",
        "    train_acc_rf = accuracy_score(y_train, y_train_pred_rf)\n",
        "    train_loss_rf = log_loss(y_train, rf_model.predict_proba(X_train))\n",
        "\n",
        "    # Validation metrics\n",
        "    y_val_pred_rf = rf_model.predict(X_test)\n",
        "    val_acc_rf = accuracy_score(y_test, y_val_pred_rf)\n",
        "    val_loss_rf = log_loss(y_test, rf_model.predict_proba(X_test))\n",
        "\n",
        "    # Append metrics to list\n",
        "    rf_train_loss.append(train_loss_rf)\n",
        "    rf_val_loss.append(val_loss_rf)\n",
        "    rf_train_acc.append(train_acc_rf)\n",
        "    rf_val_acc.append(val_acc_rf)\n",
        "\n",
        "    # Print metrics for the current iteration\n",
        "    print(f\"Iteration {epoch:03d} -> Train Accuracy: {train_acc_rf:.4f}, Train Loss: {train_loss_rf:.4f}, Val Accuracy: {val_acc_rf:.4f}, Val Loss: {val_loss_rf:.4f}\")"
      ],
      "metadata": {
        "id": "xJur3x4twFe-",
        "colab": {
          "base_uri": "https://localhost:8080/"
        },
        "outputId": "a842c936-11aa-4bc3-982f-3e0b3125db88"
      },
      "execution_count": 6,
      "outputs": [
        {
          "output_type": "stream",
          "name": "stdout",
          "text": [
            "Iteration 001 -> Train Accuracy: 0.9965, Train Loss: 0.1278, Val Accuracy: 0.9922, Val Loss: 0.2812\n",
            "Iteration 002 -> Train Accuracy: 0.9965, Train Loss: 0.0038, Val Accuracy: 0.9943, Val Loss: 0.0199\n",
            "Iteration 003 -> Train Accuracy: 0.9998, Train Loss: 0.0032, Val Accuracy: 0.9965, Val Loss: 0.0212\n",
            "Iteration 004 -> Train Accuracy: 1.0000, Train Loss: 0.0026, Val Accuracy: 0.9986, Val Loss: 0.0079\n",
            "Iteration 005 -> Train Accuracy: 1.0000, Train Loss: 0.0021, Val Accuracy: 0.9989, Val Loss: 0.0060\n",
            "Iteration 006 -> Train Accuracy: 1.0000, Train Loss: 0.0017, Val Accuracy: 1.0000, Val Loss: 0.0047\n",
            "Iteration 007 -> Train Accuracy: 1.0000, Train Loss: 0.0018, Val Accuracy: 0.9993, Val Loss: 0.0050\n",
            "Iteration 008 -> Train Accuracy: 1.0000, Train Loss: 0.0016, Val Accuracy: 1.0000, Val Loss: 0.0042\n",
            "Iteration 009 -> Train Accuracy: 1.0000, Train Loss: 0.0015, Val Accuracy: 1.0000, Val Loss: 0.0037\n",
            "Iteration 010 -> Train Accuracy: 1.0000, Train Loss: 0.0014, Val Accuracy: 1.0000, Val Loss: 0.0033\n",
            "Iteration 011 -> Train Accuracy: 1.0000, Train Loss: 0.0014, Val Accuracy: 1.0000, Val Loss: 0.0033\n",
            "Iteration 012 -> Train Accuracy: 1.0000, Train Loss: 0.0014, Val Accuracy: 1.0000, Val Loss: 0.0031\n",
            "Iteration 013 -> Train Accuracy: 1.0000, Train Loss: 0.0013, Val Accuracy: 1.0000, Val Loss: 0.0028\n",
            "Iteration 014 -> Train Accuracy: 1.0000, Train Loss: 0.0012, Val Accuracy: 1.0000, Val Loss: 0.0027\n",
            "Iteration 015 -> Train Accuracy: 1.0000, Train Loss: 0.0011, Val Accuracy: 1.0000, Val Loss: 0.0026\n",
            "Iteration 016 -> Train Accuracy: 1.0000, Train Loss: 0.0012, Val Accuracy: 1.0000, Val Loss: 0.0027\n",
            "Iteration 017 -> Train Accuracy: 1.0000, Train Loss: 0.0013, Val Accuracy: 1.0000, Val Loss: 0.0030\n",
            "Iteration 018 -> Train Accuracy: 1.0000, Train Loss: 0.0012, Val Accuracy: 1.0000, Val Loss: 0.0031\n",
            "Iteration 019 -> Train Accuracy: 1.0000, Train Loss: 0.0014, Val Accuracy: 1.0000, Val Loss: 0.0032\n",
            "Iteration 020 -> Train Accuracy: 1.0000, Train Loss: 0.0014, Val Accuracy: 1.0000, Val Loss: 0.0035\n",
            "Iteration 021 -> Train Accuracy: 1.0000, Train Loss: 0.0013, Val Accuracy: 1.0000, Val Loss: 0.0034\n",
            "Iteration 022 -> Train Accuracy: 1.0000, Train Loss: 0.0013, Val Accuracy: 1.0000, Val Loss: 0.0034\n",
            "Iteration 023 -> Train Accuracy: 1.0000, Train Loss: 0.0013, Val Accuracy: 1.0000, Val Loss: 0.0033\n",
            "Iteration 024 -> Train Accuracy: 1.0000, Train Loss: 0.0012, Val Accuracy: 1.0000, Val Loss: 0.0032\n",
            "Iteration 025 -> Train Accuracy: 1.0000, Train Loss: 0.0012, Val Accuracy: 1.0000, Val Loss: 0.0030\n",
            "Iteration 026 -> Train Accuracy: 1.0000, Train Loss: 0.0012, Val Accuracy: 1.0000, Val Loss: 0.0029\n",
            "Iteration 027 -> Train Accuracy: 1.0000, Train Loss: 0.0012, Val Accuracy: 1.0000, Val Loss: 0.0029\n",
            "Iteration 028 -> Train Accuracy: 1.0000, Train Loss: 0.0012, Val Accuracy: 1.0000, Val Loss: 0.0030\n",
            "Iteration 029 -> Train Accuracy: 1.0000, Train Loss: 0.0012, Val Accuracy: 1.0000, Val Loss: 0.0029\n",
            "Iteration 030 -> Train Accuracy: 1.0000, Train Loss: 0.0012, Val Accuracy: 1.0000, Val Loss: 0.0029\n",
            "Iteration 031 -> Train Accuracy: 1.0000, Train Loss: 0.0012, Val Accuracy: 1.0000, Val Loss: 0.0029\n",
            "Iteration 032 -> Train Accuracy: 1.0000, Train Loss: 0.0012, Val Accuracy: 1.0000, Val Loss: 0.0028\n",
            "Iteration 033 -> Train Accuracy: 1.0000, Train Loss: 0.0011, Val Accuracy: 1.0000, Val Loss: 0.0027\n",
            "Iteration 034 -> Train Accuracy: 1.0000, Train Loss: 0.0011, Val Accuracy: 1.0000, Val Loss: 0.0027\n",
            "Iteration 035 -> Train Accuracy: 1.0000, Train Loss: 0.0012, Val Accuracy: 1.0000, Val Loss: 0.0029\n",
            "Iteration 036 -> Train Accuracy: 1.0000, Train Loss: 0.0012, Val Accuracy: 1.0000, Val Loss: 0.0029\n",
            "Iteration 037 -> Train Accuracy: 1.0000, Train Loss: 0.0012, Val Accuracy: 1.0000, Val Loss: 0.0028\n",
            "Iteration 038 -> Train Accuracy: 1.0000, Train Loss: 0.0012, Val Accuracy: 1.0000, Val Loss: 0.0028\n",
            "Iteration 039 -> Train Accuracy: 1.0000, Train Loss: 0.0012, Val Accuracy: 1.0000, Val Loss: 0.0029\n",
            "Iteration 040 -> Train Accuracy: 1.0000, Train Loss: 0.0012, Val Accuracy: 1.0000, Val Loss: 0.0029\n",
            "Iteration 041 -> Train Accuracy: 1.0000, Train Loss: 0.0012, Val Accuracy: 1.0000, Val Loss: 0.0028\n",
            "Iteration 042 -> Train Accuracy: 1.0000, Train Loss: 0.0011, Val Accuracy: 1.0000, Val Loss: 0.0028\n",
            "Iteration 043 -> Train Accuracy: 1.0000, Train Loss: 0.0011, Val Accuracy: 1.0000, Val Loss: 0.0027\n",
            "Iteration 044 -> Train Accuracy: 1.0000, Train Loss: 0.0011, Val Accuracy: 1.0000, Val Loss: 0.0026\n",
            "Iteration 045 -> Train Accuracy: 1.0000, Train Loss: 0.0011, Val Accuracy: 1.0000, Val Loss: 0.0028\n",
            "Iteration 046 -> Train Accuracy: 1.0000, Train Loss: 0.0011, Val Accuracy: 1.0000, Val Loss: 0.0028\n",
            "Iteration 047 -> Train Accuracy: 1.0000, Train Loss: 0.0011, Val Accuracy: 1.0000, Val Loss: 0.0027\n",
            "Iteration 048 -> Train Accuracy: 1.0000, Train Loss: 0.0011, Val Accuracy: 1.0000, Val Loss: 0.0027\n",
            "Iteration 049 -> Train Accuracy: 1.0000, Train Loss: 0.0011, Val Accuracy: 1.0000, Val Loss: 0.0027\n",
            "Iteration 050 -> Train Accuracy: 1.0000, Train Loss: 0.0011, Val Accuracy: 1.0000, Val Loss: 0.0027\n",
            "Iteration 051 -> Train Accuracy: 1.0000, Train Loss: 0.0011, Val Accuracy: 1.0000, Val Loss: 0.0026\n",
            "Iteration 052 -> Train Accuracy: 1.0000, Train Loss: 0.0010, Val Accuracy: 1.0000, Val Loss: 0.0026\n",
            "Iteration 053 -> Train Accuracy: 1.0000, Train Loss: 0.0011, Val Accuracy: 1.0000, Val Loss: 0.0028\n",
            "Iteration 054 -> Train Accuracy: 1.0000, Train Loss: 0.0011, Val Accuracy: 1.0000, Val Loss: 0.0028\n",
            "Iteration 055 -> Train Accuracy: 1.0000, Train Loss: 0.0011, Val Accuracy: 1.0000, Val Loss: 0.0027\n",
            "Iteration 056 -> Train Accuracy: 1.0000, Train Loss: 0.0011, Val Accuracy: 1.0000, Val Loss: 0.0027\n",
            "Iteration 057 -> Train Accuracy: 1.0000, Train Loss: 0.0011, Val Accuracy: 1.0000, Val Loss: 0.0027\n",
            "Iteration 058 -> Train Accuracy: 1.0000, Train Loss: 0.0011, Val Accuracy: 1.0000, Val Loss: 0.0028\n",
            "Iteration 059 -> Train Accuracy: 1.0000, Train Loss: 0.0011, Val Accuracy: 1.0000, Val Loss: 0.0028\n",
            "Iteration 060 -> Train Accuracy: 1.0000, Train Loss: 0.0011, Val Accuracy: 1.0000, Val Loss: 0.0028\n",
            "Iteration 061 -> Train Accuracy: 1.0000, Train Loss: 0.0011, Val Accuracy: 1.0000, Val Loss: 0.0028\n",
            "Iteration 062 -> Train Accuracy: 1.0000, Train Loss: 0.0011, Val Accuracy: 1.0000, Val Loss: 0.0028\n",
            "Iteration 063 -> Train Accuracy: 1.0000, Train Loss: 0.0011, Val Accuracy: 1.0000, Val Loss: 0.0028\n",
            "Iteration 064 -> Train Accuracy: 1.0000, Train Loss: 0.0011, Val Accuracy: 1.0000, Val Loss: 0.0029\n",
            "Iteration 065 -> Train Accuracy: 1.0000, Train Loss: 0.0011, Val Accuracy: 1.0000, Val Loss: 0.0028\n",
            "Iteration 066 -> Train Accuracy: 1.0000, Train Loss: 0.0011, Val Accuracy: 1.0000, Val Loss: 0.0028\n",
            "Iteration 067 -> Train Accuracy: 1.0000, Train Loss: 0.0011, Val Accuracy: 1.0000, Val Loss: 0.0028\n",
            "Iteration 068 -> Train Accuracy: 1.0000, Train Loss: 0.0011, Val Accuracy: 1.0000, Val Loss: 0.0029\n",
            "Iteration 069 -> Train Accuracy: 1.0000, Train Loss: 0.0012, Val Accuracy: 1.0000, Val Loss: 0.0029\n",
            "Iteration 070 -> Train Accuracy: 1.0000, Train Loss: 0.0012, Val Accuracy: 1.0000, Val Loss: 0.0029\n",
            "Iteration 071 -> Train Accuracy: 1.0000, Train Loss: 0.0012, Val Accuracy: 1.0000, Val Loss: 0.0029\n",
            "Iteration 072 -> Train Accuracy: 1.0000, Train Loss: 0.0012, Val Accuracy: 1.0000, Val Loss: 0.0029\n",
            "Iteration 073 -> Train Accuracy: 1.0000, Train Loss: 0.0012, Val Accuracy: 1.0000, Val Loss: 0.0029\n",
            "Iteration 074 -> Train Accuracy: 1.0000, Train Loss: 0.0012, Val Accuracy: 1.0000, Val Loss: 0.0028\n",
            "Iteration 075 -> Train Accuracy: 1.0000, Train Loss: 0.0012, Val Accuracy: 1.0000, Val Loss: 0.0028\n",
            "Iteration 076 -> Train Accuracy: 1.0000, Train Loss: 0.0011, Val Accuracy: 1.0000, Val Loss: 0.0028\n",
            "Iteration 077 -> Train Accuracy: 1.0000, Train Loss: 0.0011, Val Accuracy: 1.0000, Val Loss: 0.0028\n",
            "Iteration 078 -> Train Accuracy: 1.0000, Train Loss: 0.0011, Val Accuracy: 1.0000, Val Loss: 0.0027\n",
            "Iteration 079 -> Train Accuracy: 1.0000, Train Loss: 0.0011, Val Accuracy: 1.0000, Val Loss: 0.0027\n",
            "Iteration 080 -> Train Accuracy: 1.0000, Train Loss: 0.0011, Val Accuracy: 1.0000, Val Loss: 0.0027\n",
            "Iteration 081 -> Train Accuracy: 1.0000, Train Loss: 0.0011, Val Accuracy: 1.0000, Val Loss: 0.0027\n",
            "Iteration 082 -> Train Accuracy: 1.0000, Train Loss: 0.0011, Val Accuracy: 1.0000, Val Loss: 0.0028\n",
            "Iteration 083 -> Train Accuracy: 1.0000, Train Loss: 0.0011, Val Accuracy: 1.0000, Val Loss: 0.0028\n",
            "Iteration 084 -> Train Accuracy: 1.0000, Train Loss: 0.0011, Val Accuracy: 1.0000, Val Loss: 0.0028\n",
            "Iteration 085 -> Train Accuracy: 1.0000, Train Loss: 0.0011, Val Accuracy: 1.0000, Val Loss: 0.0028\n",
            "Iteration 086 -> Train Accuracy: 1.0000, Train Loss: 0.0011, Val Accuracy: 1.0000, Val Loss: 0.0028\n",
            "Iteration 087 -> Train Accuracy: 1.0000, Train Loss: 0.0011, Val Accuracy: 1.0000, Val Loss: 0.0028\n",
            "Iteration 088 -> Train Accuracy: 1.0000, Train Loss: 0.0011, Val Accuracy: 1.0000, Val Loss: 0.0028\n",
            "Iteration 089 -> Train Accuracy: 1.0000, Train Loss: 0.0011, Val Accuracy: 1.0000, Val Loss: 0.0028\n",
            "Iteration 090 -> Train Accuracy: 1.0000, Train Loss: 0.0011, Val Accuracy: 1.0000, Val Loss: 0.0028\n",
            "Iteration 091 -> Train Accuracy: 1.0000, Train Loss: 0.0011, Val Accuracy: 1.0000, Val Loss: 0.0028\n",
            "Iteration 092 -> Train Accuracy: 1.0000, Train Loss: 0.0011, Val Accuracy: 1.0000, Val Loss: 0.0028\n",
            "Iteration 093 -> Train Accuracy: 1.0000, Train Loss: 0.0011, Val Accuracy: 1.0000, Val Loss: 0.0028\n",
            "Iteration 094 -> Train Accuracy: 1.0000, Train Loss: 0.0011, Val Accuracy: 1.0000, Val Loss: 0.0027\n",
            "Iteration 095 -> Train Accuracy: 1.0000, Train Loss: 0.0011, Val Accuracy: 1.0000, Val Loss: 0.0027\n",
            "Iteration 096 -> Train Accuracy: 1.0000, Train Loss: 0.0011, Val Accuracy: 1.0000, Val Loss: 0.0027\n",
            "Iteration 097 -> Train Accuracy: 1.0000, Train Loss: 0.0011, Val Accuracy: 1.0000, Val Loss: 0.0027\n",
            "Iteration 098 -> Train Accuracy: 1.0000, Train Loss: 0.0011, Val Accuracy: 1.0000, Val Loss: 0.0027\n",
            "Iteration 099 -> Train Accuracy: 1.0000, Train Loss: 0.0011, Val Accuracy: 1.0000, Val Loss: 0.0027\n",
            "Iteration 100 -> Train Accuracy: 1.0000, Train Loss: 0.0011, Val Accuracy: 1.0000, Val Loss: 0.0027\n"
          ]
        }
      ]
    },
    {
      "cell_type": "code",
      "source": [
        "plt.figure(figsize=(10, 5))\n",
        "plt.plot(range(1, len(rf_train_loss) + 1), rf_train_loss, label='Train Loss')\n",
        "plt.plot(range(1, len(rf_val_loss) + 1), rf_val_loss, label='Validation Loss')\n",
        "plt.title('Loss Random Forest')\n",
        "plt.xlabel('Iteration')\n",
        "plt.ylabel('Loss')\n",
        "plt.legend()\n",
        "plt.show()"
      ],
      "metadata": {
        "colab": {
          "base_uri": "https://localhost:8080/",
          "height": 487
        },
        "id": "j_O2B2W-D1G3",
        "outputId": "ed9ef09b-504e-4a5f-e78c-f14a2d392a5e"
      },
      "execution_count": 7,
      "outputs": [
        {
          "output_type": "display_data",
          "data": {
            "text/plain": [
              "<Figure size 1000x500 with 1 Axes>"
            ],
            "image/png": "[encoded data removed]"
          },
          "metadata": {}
        }
      ]
    },
    {
      "cell_type": "markdown",
      "source": [
        "## **b. Evaluasi Model Klasifikasi**"
      ],
      "metadata": {
        "id": "ergzChZFEL-O"
      }
    },
    {
      "cell_type": "markdown",
      "source": [
        "Berikut adalah **rekomendasi** tahapannya.\n",
        "1. Lakukan prediksi menggunakan data uji.\n",
        "2. Hitung metrik evaluasi seperti Accuracy dan F1-Score (Opsional: Precision dan Recall).\n",
        "3. Buat confusion matrix untuk melihat detail prediksi benar dan salah."
      ],
      "metadata": {
        "id": "zOm68u-7NpLT"
      }
    },
    {
      "cell_type": "code",
      "source": [
        "from sklearn.metrics import classification_report, confusion_matrix\n",
        "\n",
        "# Evaluate Model Neural Network\n",
        "y_pred_nn = nn_model.predict(X_test)\n",
        "print(\"\\nClassification Report Neural Network:\")\n",
        "print(classification_report(y_test, y_pred_nn))\n",
        "\n",
        "# Confusion Matrix\n",
        "print(\"\\nConfusion Matrix:\")\n",
        "print(confusion_matrix(y_test, y_pred_nn))"
      ],
      "metadata": {
        "id": "tMq4QAssNLip",
        "colab": {
          "base_uri": "https://localhost:8080/"
        },
        "outputId": "3aeb4bf4-4465-4f77-cbdd-a9a25b4038b4"
      },
      "execution_count": 8,
      "outputs": [
        {
          "output_type": "stream",
          "name": "stdout",
          "text": [
            "\n",
            "Classification Report Neural Network:\n",
            "              precision    recall  f1-score   support\n",
            "\n",
            "           0       0.99      1.00      1.00       255\n",
            "           1       1.00      1.00      1.00      1648\n",
            "           2       1.00      1.00      1.00       917\n",
            "\n",
            "    accuracy                           1.00      2820\n",
            "   macro avg       1.00      1.00      1.00      2820\n",
            "weighted avg       1.00      1.00      1.00      2820\n",
            "\n",
            "\n",
            "Confusion Matrix:\n",
            "[[ 255    0    0]\n",
            " [   0 1648    0]\n",
            " [   2    2  913]]\n"
          ]
        }
      ]
    },
    {
      "cell_type": "code",
      "source": [
        "# Evaluate Model Neural Network\n",
        "y_pred_rf = rf_model.predict(X_test)\n",
        "print(\"\\nClassification Report Random Forest:\")\n",
        "print(classification_report(y_test, y_pred_rf))\n",
        "\n",
        "# Confusion Matrix\n",
        "print(\"\\nConfusion Matrix:\")\n",
        "print(confusion_matrix(y_test, y_pred_rf))"
      ],
      "metadata": {
        "colab": {
          "base_uri": "https://localhost:8080/"
        },
        "id": "QD9SDGlwyOYY",
        "outputId": "72face41-5051-4276-c218-0c5330da2944"
      },
      "execution_count": 9,
      "outputs": [
        {
          "output_type": "stream",
          "name": "stdout",
          "text": [
            "\n",
            "Classification Report Random Forest:\n",
            "              precision    recall  f1-score   support\n",
            "\n",
            "           0       1.00      1.00      1.00       255\n",
            "           1       1.00      1.00      1.00      1648\n",
            "           2       1.00      1.00      1.00       917\n",
            "\n",
            "    accuracy                           1.00      2820\n",
            "   macro avg       1.00      1.00      1.00      2820\n",
            "weighted avg       1.00      1.00      1.00      2820\n",
            "\n",
            "\n",
            "Confusion Matrix:\n",
            "[[ 255    0    0]\n",
            " [   0 1648    0]\n",
            " [   0    0  917]]\n"
          ]
        }
      ]
    },
    {
      "cell_type": "markdown",
      "source": [
        "Neural Network (MLPClassifier):\n",
        "\n",
        "\n",
        "*   Model Neural Network (NN) memberikan hasil yang sangat baik pada data uji dengan akurasi sempurna 100%. Semua metrik evaluasi, termasuk precision, recall, dan f1-score untuk setiap kelas (0, 1, dan 2), adalah 1.00, menandakan bahwa model ini sangat akurat dalam memprediksi setiap kelas tanpa kesalahan. Confusion matrix menunjukkan bahwa tidak ada kesalahan klasifikasi, meskipun terdapat dua kesalahan kecil pada kelas 2.\n",
        "\n",
        "Random Forest:\n",
        "\n",
        "\n",
        "*   Model Random Forest (RF) menunjukkan performa yang identik dengan Neural Network, juga dengan akurasi 100%. Semua metrik evaluasi, seperti precision, recall, dan f1-score untuk setiap kelas, adalah 1.00, yang berarti Random Forest berhasil memprediksi setiap kelas dengan sangat akurat. Confusion matrix dari model ini menunjukkan hasil sempurna, tanpa ada kesalahan prediksi, terutama untuk kelas 0 dan 1.\n",
        "\n",
        "\n",
        "Kesimpulan:\n",
        "\n",
        "Kedua model, baik Neural Network maupun Random Forest, menghasilkan akurasi 100% pada data uji, dengan precision, recall, dan f1-score yang identik, yaitu 1.00 untuk semua kelas. Kedua model juga menghasilkan confusion matrix yang sempurna, yang menandakan bahwa semua prediksi untuk kelas 0, 1, dan 2 sangat tepat. Meskipun hasilnya sangat mirip, perbedaan di antara keduanya mungkin terletak pada faktor lain seperti kecepatan pelatihan, kompleksitas model, dan kebutuhan interpretasi, di mana Random Forest sering kali lebih mudah diinterpretasikan dibandingkan Neural Network yang lebih kompleks."
      ],
      "metadata": {
        "id": "H4_9OwrsXZlz"
      }
    },
    {
      "cell_type": "markdown",
      "source": [
        "## **e. Analisis Hasil Evaluasi Model Klasifikasi**"
      ],
      "metadata": {
        "id": "ZRsOdm4uEgAW"
      }
    },
    {
      "cell_type": "markdown",
      "source": [
        "Model Neural Network (MLPClassifier):\n",
        "\n",
        "Kelemahan:\n",
        "\n",
        "*   Salah satu kelemahan utama Neural Network adalah kecenderungannya untuk menjadi sangat kompleks dan memerlukan banyak data untuk pelatihan yang efektif. Selain itu, model ini bisa cenderung memakan banyak waktu dalam proses pelatihan jika jumlah fitur atau data sangat besar. Neural Network juga dapat sulit diinterpretasikan karena sifatnya yang berupa \"black box\".\n",
        "\n",
        "Model Logistic Regression:\n",
        "\n",
        "Kelemahan:\n",
        "\n",
        "*   Meskipun Random Forest cukup mudah diinterpretasikan dan lebih tahan terhadap overfitting, model ini dapat memerlukan waktu yang lebih lama untuk pelatihan dibandingkan model yang lebih sederhana seperti logistic regression. Selain itu, meskipun Random Forest tidak rentan terhadap overfitting, ia dapat menjadi kurang efisien jika jumlah pohon dalam hutan terlalu banyak.\n",
        "\n",
        "Overfitting atau Underfitting:\n",
        "\n",
        "Berdasarkan hasil evaluasi yang menunjukkan akurasi 100%, dengan precision, recall, dan f1-score masing-masing 1.00 untuk setiap kelas, dapat disimpulkan bahwa kedua model tidak mengalami overfitting atau underfitting. Model ini dapat memprediksi data dengan sangat akurat, tanpa adanya kesalahan klasifikasi pada data uji. Hal ini menunjukkan bahwa model sudah cukup baik untuk generalisasi pada data yang belum terlihat.\n",
        "\n",
        "Meskipun begitu, kita harus berhati-hati jika model terlalu \"sempurna\" pada data uji, karena ini bisa menunjukkan bahwa model mungkin saja terlalu disesuaikan dengan data yang digunakan. Dalam hal ini, kita perlu memverifikasi model menggunakan data yang lebih beragam atau melalui teknik cross-validation untuk memastikan generalisasi model.\n",
        "\n",
        "Kesimpulan Umum dan Tindakan Lanjutan:\n",
        "\n",
        "Kedua model, baik Neural Network maupun Random Forest menunjukkan kinerja yang sangat baik pada data uji dengan hasil yang identik, yaitu akurasi 100%. Meskipun tidak ada indikasi overfitting atau underfitting, evaluasi lebih lanjut dengan data yang lebih besar dan beragam, serta menggunakan cross-validation, akan sangat bermanfaat untuk mengkonfirmasi bahwa model ini tidak terlalu disesuaikan dengan data pelatihan. Selain itu, mengingat bahwa kedua model memberikan hasil yang sama baik, pilihan model bisa didasarkan pada kebutuhan praktis. Jika interpretabilitas lebih penting, Random Forest bisa lebih diutamakan, sementara jika performa dalam prediksi lebih penting, Neural Network dapat dipilih. Serta menambahkan lebih banyak data dan fitur yang relevan bisa meningkatkan kemampuan model dalam generalisasi dan memberikan hasil yang lebih baik lagi pada data yang lebih bervariasi."
      ],
      "metadata": {
        "id": "Hm3BhSi6N4_l"
      }
    }
  ]
}